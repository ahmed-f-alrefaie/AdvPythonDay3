{
 "cells": [
  {
   "cell_type": "markdown",
   "id": "69e39312-da48-4953-b73a-49a6e85db6e9",
   "metadata": {},
   "source": [
    "# Optimizing your code"
   ]
  },
  {
   "cell_type": "code",
   "execution_count": null,
   "id": "412a0416-55c3-4cc8-a147-de1e244225e3",
   "metadata": {},
   "outputs": [],
   "source": [
    "import numpy as np\n",
    "import matplotlib.pyplot as plt\n",
    "%matplotlib widget"
   ]
  },
  {
   "cell_type": "code",
   "execution_count": null,
   "id": "524210a2-3867-49c1-bd66-0128f03d04c1",
   "metadata": {},
   "outputs": [],
   "source": [
    "%conda install numba numexpr cython"
   ]
  },
  {
   "cell_type": "markdown",
   "id": "2146de77-8727-4f9b-b220-0e5325202222",
   "metadata": {},
   "source": [
    "When your math works, the next step is often to try and make the code faster.\n",
    "Optimizing is very delicate work as oftentimes we immediately go for more aggressive options. \n",
    "As a rule of thumb takes these steps towards optimisation:\n",
    "   \n",
    "   1. See if its been done already\n",
    "   2. Code the math\n",
    "   3. Simplify\n",
    "   4. Algorithmic improvement\n",
    "   5. Use libraries like `numexpr` and `numba`\n",
    "   6. Parallelize\n",
    "   7. Rewrite in C++/FORTRAN"
   ]
  },
  {
   "cell_type": "markdown",
   "id": "172bd854-1155-46b1-be05-f5dee6b5ac7c",
   "metadata": {},
   "source": [
    "## Quick optimization (Caching)"
   ]
  },
  {
   "cell_type": "markdown",
   "id": "659e5a29-75ac-4e85-9ca4-0685694608a0",
   "metadata": {},
   "source": [
    "Caching function results is often a quick and easy way to get some performance out of your code. This is best used on functions with a limited range of arguments. Python provides the `lru_cache` decorator from the `functools` package"
   ]
  },
  {
   "cell_type": "code",
   "execution_count": 1,
   "id": "fa6ebf5a-1d10-4230-932d-25068dce3519",
   "metadata": {},
   "outputs": [],
   "source": [
    "def compute_a_slow_result(x):\n",
    "    import time\n",
    "    \n",
    "    time.sleep(0.1)\n",
    "    return x*2\n",
    "\n"
   ]
  },
  {
   "cell_type": "code",
   "execution_count": 2,
   "id": "e40c2012-46d0-4c8c-af94-31ab3abd3401",
   "metadata": {},
   "outputs": [
    {
     "name": "stdout",
     "output_type": "stream",
     "text": [
      "103 ms ± 562 µs per loop (mean ± std. dev. of 7 runs, 10 loops each)\n"
     ]
    }
   ],
   "source": [
    "%timeit compute_a_slow_result(10)"
   ]
  },
  {
   "cell_type": "markdown",
   "id": "6ce732cd-9384-4542-b1bf-1edc51fbe2d8",
   "metadata": {},
   "source": [
    "Lets now decorate our function with `lru_cache`"
   ]
  },
  {
   "cell_type": "code",
   "execution_count": null,
   "id": "b6136763-31f1-4623-9c98-6d96c10cfa80",
   "metadata": {},
   "outputs": [],
   "source": [
    "from functools import lru_cache\n",
    "\n",
    "@lru_cache(maxsize=4)\n",
    "def compute_a_slow_result_cache(x):\n",
    "    import time\n",
    "    \n",
    "    time.sleep(0.1)\n",
    "    return x*2\n",
    "\n"
   ]
  },
  {
   "cell_type": "code",
   "execution_count": null,
   "id": "97a59ffd-a172-400d-b7da-7a72133e76da",
   "metadata": {},
   "outputs": [],
   "source": [
    "compute_a_slow_result_cache(10)"
   ]
  },
  {
   "cell_type": "code",
   "execution_count": null,
   "id": "fc52b146-4960-455d-850a-b8a44d236c5e",
   "metadata": {},
   "outputs": [],
   "source": [
    "%timeit compute_a_slow_result_cache(10)"
   ]
  },
  {
   "cell_type": "markdown",
   "id": "aac5e239-38d9-4c0f-8ff8-0336f2cf1b4d",
   "metadata": {},
   "source": [
    "In the background `lru_cache` is storing a list of function arguments and return values, when a function with an argument is run for the first time it is run normally and then its return stored. The next time the same arguments are used this will instead simply return the store value! the `maxsize=4` tells `lru_cache` to cache a maximum of 4 function calls.\n",
    "\n",
    "Our function can be broken if we use a random value each time:"
   ]
  },
  {
   "cell_type": "code",
   "execution_count": null,
   "id": "0ef8bd79-96d3-4909-a677-c3331d5c5461",
   "metadata": {},
   "outputs": [],
   "source": [
    "import random\n",
    "%timeit compute_a_slow_result_cache(random.randint(1,100))"
   ]
  },
  {
   "cell_type": "markdown",
   "id": "270904bf-5723-495d-9337-55a0621dc87f",
   "metadata": {
    "tags": []
   },
   "source": [
    "# Test Problem"
   ]
  },
  {
   "cell_type": "markdown",
   "id": "1e240227-b2ab-4dd1-8260-62c0ee2814a6",
   "metadata": {},
   "source": [
    "Lets write our own linterpolation algorithm. Whilst numpy and scipy have their own interpolation. Ours will be slightly different."
   ]
  },
  {
   "cell_type": "markdown",
   "id": "f504e039-91ad-473c-92a0-7ae607529385",
   "metadata": {},
   "source": [
    "Mathematically the formula looks like this:\n",
    "\n",
    "$$\n",
    "y = \\frac{e^{y_0^{2}}(x_1 - x)+y_1(x - x_0)}{x_1 - x_0}\n",
    "$$\n",
    "\n",
    "this has no physics behind it other than taking the linear interpolation algorithm and adding a square exp function."
   ]
  },
  {
   "cell_type": "markdown",
   "id": "d6826e71-143e-4441-9c2c-2ceef07c4b5a",
   "metadata": {},
   "source": [
    "Lets implement and test this function"
   ]
  },
  {
   "cell_type": "code",
   "execution_count": 1,
   "id": "e96da9c9-5acd-4d41-bc1f-5ab9a9accbf0",
   "metadata": {},
   "outputs": [],
   "source": [
    "def linear_interpolate(y0, y1, x0, x1, x):\n",
    "    \n",
    "    return (np.exp(y0**2) * (x1 - x) + y1 * (x - x0))  / (x1 - x0)"
   ]
  },
  {
   "cell_type": "code",
   "execution_count": null,
   "id": "a4a4df3d-7bc2-4603-b844-6aa0a9470fa6",
   "metadata": {},
   "outputs": [],
   "source": [
    "n = 50_000_000\n",
    "y0 = np.random.rand(n)\n",
    "y1 = np.random.rand(n)\n",
    "%timeit linear_interpolate(y0, y1, 2, 3, 2.5)"
   ]
  },
  {
   "cell_type": "markdown",
   "id": "a6b7a3cd-55aa-4980-857e-0eda0626c4a7",
   "metadata": {},
   "source": [
    "## Numexpr"
   ]
  },
  {
   "cell_type": "markdown",
   "id": "39f27d30-7b86-4149-8e1d-1a24bf31d468",
   "metadata": {},
   "source": [
    "With numpy we get pretty decent performance. However we can push this a bit further with minimal effort by using the `numexpr` package.\n",
    "\n",
    "Numexpr can take advantage of threading and inbuilt libraries to get faster performance. It works by compiling a computational string that represent the computation and figuring out how best to split the computation up."
   ]
  },
  {
   "cell_type": "code",
   "execution_count": null,
   "id": "a95ebf95-9f3c-4bca-840b-f2933fd6d67a",
   "metadata": {},
   "outputs": [],
   "source": [
    "def linear_interpolate_numexpr(y0, y1, x0, x1, x):\n",
    "    import numexpr as ne\n",
    "    \n",
    "    return ne.evaluate('(exp(y0**2) * (x1 - x) + y1 * (x - x0))  / (x1 - x0)')"
   ]
  },
  {
   "cell_type": "code",
   "execution_count": null,
   "id": "77229c08-5230-43e7-a4a4-eedcf3a804cb",
   "metadata": {},
   "outputs": [],
   "source": [
    "%timeit linear_interpolate_numexpr(y0, y1, 2, 3, 2.5)"
   ]
  },
  {
   "cell_type": "markdown",
   "id": "9e3e6795-24fb-4862-8a77-94528d691bc0",
   "metadata": {},
   "source": [
    "## FORTRAN\n",
    "\n",
    "The classic programming language. `numpy` actually has the `f2py` module specifically to allow FORTRAN code to be included in Python! We can run it from the command line like this:\n",
    "    \n",
    "    python -m numpy.f2py --quiet -c src/interp.f90 -m vect\n",
    "\n",
    "Where it will create a new python module stated by the last `-m` argument. Lets see it in action!"
   ]
  },
  {
   "cell_type": "code",
   "execution_count": null,
   "id": "6da5a9a2-5181-45cd-b691-e911031eb659",
   "metadata": {},
   "outputs": [],
   "source": [
    "import sys\n",
    "!{sys.executable} -m numpy.f2py --quiet -c src/interp.f90 -m vect  --fcompiler=gnu95 --f90flags=-O3"
   ]
  },
  {
   "cell_type": "code",
   "execution_count": null,
   "id": "7b4120fb-f532-4f7a-8f43-f10d601f73b1",
   "metadata": {},
   "outputs": [],
   "source": [
    "import vect\n",
    "vect.fort_linear?"
   ]
  },
  {
   "cell_type": "code",
   "execution_count": null,
   "id": "6f987a7f-8231-465a-8d50-203c48ec137b",
   "metadata": {},
   "outputs": [],
   "source": [
    "%timeit vect.fort_linear(y0, y1, 2, 3, 2.5)"
   ]
  },
  {
   "cell_type": "markdown",
   "id": "88ae8769-35d7-42b7-851e-18651a1b9f27",
   "metadata": {},
   "source": [
    "## Cython"
   ]
  },
  {
   "cell_type": "code",
   "execution_count": null,
   "id": "3ca18980-94b1-4015-9d94-650292c5c0a9",
   "metadata": {},
   "outputs": [],
   "source": [
    "%load_ext cython"
   ]
  },
  {
   "cell_type": "code",
   "execution_count": null,
   "id": "2e741781-5e23-4661-807a-b8c76bf4bc29",
   "metadata": {},
   "outputs": [],
   "source": [
    "%%cython -a\n",
    "import numpy as np\n",
    "cimport numpy as np\n",
    "ctypedef np.float64_t dtype_t\n",
    "cimport cython\n",
    "from libc.math cimport exp\n",
    "\n",
    "\n",
    "@cython.boundscheck(False)\n",
    "@cython.wraparound(False)\n",
    "@cython.nonecheck(False)\n",
    "@cython.cdivision(True)\n",
    "def linear_cython(double[::1] y0,\n",
    "                  double[::1] y1, \n",
    "                  double x0, double x1, double x):\n",
    "    cdef Py_ssize_t i\n",
    "    \n",
    "    cdef Py_ssize_t y_max = y0.shape[0]\n",
    "    \n",
    "    result = np.zeros(y0.shape[0], dtype=np.float64)\n",
    "    \n",
    "    cdef double[::1] result_view = result\n",
    "    for i in range(y_max):\n",
    "        result_view[i] = (exp(y0[i] * y0[i]) * (x1 - x) + y1[i] * (x - x0))  / (x1 - x0)\n",
    "    return result\n",
    "        \n",
    "        \n",
    "        "
   ]
  },
  {
   "cell_type": "code",
   "execution_count": null,
   "id": "c1dd83ea-4946-443c-a0c0-1d88e82252d7",
   "metadata": {},
   "outputs": [],
   "source": [
    "%timeit linear_cython(y0,y1,2,3,2.5)"
   ]
  },
  {
   "cell_type": "markdown",
   "id": "b6caa8a4-5edd-47c7-8b8e-94901f1d20b6",
   "metadata": {},
   "source": [
    "## Numba"
   ]
  },
  {
   "cell_type": "code",
   "execution_count": null,
   "id": "c7eb781d-44b7-4937-a2e5-ca124403e537",
   "metadata": {},
   "outputs": [],
   "source": [
    "def linear_interpolate_bad(y0, y1, x0, x1, x):\n",
    "    out = np.zeros(y0.shape)\n",
    "    for n in numba.prange(y0.shape[0]):\n",
    "        out[n] = (np.exp(y0[n]**2) * (x1 - x) + y1[n] * (x - x0))  / (x1 - x0)\n",
    "\n",
    "    return out"
   ]
  },
  {
   "cell_type": "code",
   "execution_count": null,
   "id": "59feaa19-17e6-4897-b469-c6695a9c3fc0",
   "metadata": {},
   "outputs": [],
   "source": [
    "%time linear_interpolate_bad(y0, y1, 2, 3, 2.5)"
   ]
  },
  {
   "cell_type": "code",
   "execution_count": null,
   "id": "c2b34b51-3bda-4c62-91ad-fbe6b5035adf",
   "metadata": {},
   "outputs": [],
   "source": [
    "import numba\n",
    "\n",
    "@numba.njit\n",
    "def linear_interpolate_good(y0, y1, x0, x1, x):\n",
    "    out = np.zeros(y0.shape)\n",
    "    for n in numba.prange(y0.shape[0]):\n",
    "        out[n] = (np.exp(y0[n]**2) * (x1 - x) + y1[n] * (x - x0))  / (x1 - x0)\n",
    "\n",
    "    return out"
   ]
  },
  {
   "cell_type": "code",
   "execution_count": null,
   "id": "191d31bb-e84d-4ce7-a6a9-c44483d1fdea",
   "metadata": {},
   "outputs": [],
   "source": [
    "%timeit linear_interpolate_good(y0, y1, 2, 3, 2.5)"
   ]
  },
  {
   "cell_type": "code",
   "execution_count": null,
   "id": "b6486073-bbae-43dc-a1cb-2c6541779a2e",
   "metadata": {},
   "outputs": [],
   "source": [
    "import numba\n",
    "\n",
    "@numba.njit(parallel=True, fastmath=True)\n",
    "def linear_interpolate_best(y0, y1, x0, x1, x):\n",
    "    out = np.zeros(y0.shape)\n",
    "    for n in numba.prange(y0.shape[0]):\n",
    "        out[n] = (np.exp(y0[n]**2) * (x1 - x) + y1[n] * (x - x0))  / (x1 - x0)\n",
    "\n",
    "    return out"
   ]
  },
  {
   "cell_type": "code",
   "execution_count": null,
   "id": "da42692d-a1f2-4aa0-95b1-96b176fd30b6",
   "metadata": {},
   "outputs": [],
   "source": [
    "%timeit linear_interpolate_best(y0, y1, 2, 3, 2.5)"
   ]
  },
  {
   "cell_type": "markdown",
   "id": "0797ecbc-4d98-4466-891a-655525be8b58",
   "metadata": {},
   "source": [
    "Go away FORTRAN and C++ shooo shooooo"
   ]
  },
  {
   "cell_type": "code",
   "execution_count": null,
   "id": "5cc50e54-0812-4f3e-8df8-a33b37928c39",
   "metadata": {},
   "outputs": [],
   "source": [
    "def mandelbrot_python(size, iterations):\n",
    "    m = np.zeros((size, size))\n",
    "    for i in range(size):\n",
    "        for j in range(size):\n",
    "            c = (-2 + 3. / size * j +\n",
    "                 1j * (1.5 - 3. / size * i))\n",
    "            z = 0\n",
    "            for n in range(iterations):\n",
    "                if np.abs(z) <= 10:\n",
    "                    z = z * z + c\n",
    "                    m[i, j] = n\n",
    "                else:\n",
    "                    break\n",
    "    return m"
   ]
  },
  {
   "cell_type": "code",
   "execution_count": null,
   "id": "e5a439d4-fe7a-4ed8-bf61-17f300a8145a",
   "metadata": {},
   "outputs": [],
   "source": [
    "size = 400\n",
    "iterations = 100"
   ]
  },
  {
   "cell_type": "code",
   "execution_count": null,
   "id": "2d3f71e5-8e8b-43a8-9dce-f07e246db943",
   "metadata": {},
   "outputs": [],
   "source": [
    "%timeit mandelbrot_python(size, iterations)"
   ]
  },
  {
   "cell_type": "code",
   "execution_count": null,
   "id": "f21ea613-d8bd-4475-adf3-9c0aef1e7748",
   "metadata": {},
   "outputs": [],
   "source": [
    "@numba.njit\n",
    "def mandelbrot_numba(size, iterations):\n",
    "    m = np.zeros((size, size))\n",
    "    for i in range(size):\n",
    "        for j in range(size):\n",
    "            c = (-2 + 3. / size * j +\n",
    "                 1j * (1.5 - 3. / size * i))\n",
    "            z = 0\n",
    "            for n in range(iterations):\n",
    "                if np.abs(z) <= 10:\n",
    "                    z = z * z + c\n",
    "                    m[i, j] = n\n",
    "                else:\n",
    "                    break\n",
    "    return m"
   ]
  },
  {
   "cell_type": "code",
   "execution_count": null,
   "id": "3ff895b8-f0d0-41e2-a503-73599151a90c",
   "metadata": {},
   "outputs": [],
   "source": [
    "%timeit mandelbrot_numba(size, iterations)"
   ]
  },
  {
   "cell_type": "code",
   "execution_count": null,
   "id": "1bd555b0-8df2-46c5-b292-64cd89b8935d",
   "metadata": {},
   "outputs": [],
   "source": [
    "m = mandelbrot_numba(size, iterations)\n",
    "\n",
    "fig, ax = plt.subplots(1, 1, figsize=(10, 10))\n",
    "ax.imshow(np.log(m), cmap=plt.cm.hot)\n",
    "ax.set_axis_off()"
   ]
  }
 ],
 "metadata": {
  "kernelspec": {
   "display_name": "Python 3 (ipykernel)",
   "language": "python",
   "name": "python3"
  },
  "language_info": {
   "codemirror_mode": {
    "name": "ipython",
    "version": 3
   },
   "file_extension": ".py",
   "mimetype": "text/x-python",
   "name": "python",
   "nbconvert_exporter": "python",
   "pygments_lexer": "ipython3",
   "version": "3.9.10"
  }
 },
 "nbformat": 4,
 "nbformat_minor": 5
}
